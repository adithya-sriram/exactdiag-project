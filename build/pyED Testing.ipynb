{
 "cells": [
  {
   "cell_type": "code",
   "execution_count": 1,
   "id": "09b84f60",
   "metadata": {},
   "outputs": [],
   "source": [
    "import sys\n",
    "from pyED import *"
   ]
  },
  {
   "cell_type": "code",
   "execution_count": 4,
   "id": "b0e2a18c",
   "metadata": {},
   "outputs": [
    {
     "data": {
      "text/plain": [
       "{0: (0.0, 0.0, 0),\n",
       " 1: (0.0, 1.0, 0),\n",
       " 2: (0.0, 2.0, 0),\n",
       " 3: (0.0, 3.0, 0),\n",
       " 4: (1.0, 0.0, 0),\n",
       " 5: (1.0, 1.0, 0),\n",
       " 6: (1.0, 2.0, 0),\n",
       " 7: (1.0, 3.0, 0),\n",
       " 8: (2.0, 0.0, 0),\n",
       " 9: (2.0, 1.0, 0),\n",
       " 10: (2.0, 2.0, 0),\n",
       " 11: (2.0, 3.0, 0),\n",
       " 12: (3.0, 0.0, 0),\n",
       " 13: (3.0, 1.0, 0),\n",
       " 14: (3.0, 2.0, 0),\n",
       " 15: (3.0, 3.0, 0)}"
      ]
     },
     "execution_count": 4,
     "metadata": {},
     "output_type": "execute_result"
    }
   ],
   "source": [
    "graph = Lattice(4,4)\n",
    "graph.qubit_coords"
   ]
  },
  {
   "cell_type": "code",
   "execution_count": 5,
   "id": "9843fbc9",
   "metadata": {},
   "outputs": [
    {
     "name": "stdout",
     "output_type": "stream",
     "text": [
      "+ + + + \n",
      "+ + + + \n",
      "+ + + + \n",
      "+ + + + \n"
     ]
    }
   ],
   "source": [
    "graph.draw()"
   ]
  },
  {
   "cell_type": "code",
   "execution_count": null,
   "id": "c0a75781",
   "metadata": {},
   "outputs": [],
   "source": []
  }
 ],
 "metadata": {
  "kernelspec": {
   "display_name": "Python 3 (ipykernel)",
   "language": "python",
   "name": "python3"
  },
  "language_info": {
   "codemirror_mode": {
    "name": "ipython",
    "version": 3
   },
   "file_extension": ".py",
   "mimetype": "text/x-python",
   "name": "python",
   "nbconvert_exporter": "python",
   "pygments_lexer": "ipython3",
   "version": "3.11.4"
  }
 },
 "nbformat": 4,
 "nbformat_minor": 5
}
