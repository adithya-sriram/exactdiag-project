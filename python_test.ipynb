{
 "cells": [
  {
   "cell_type": "code",
   "execution_count": 1,
   "metadata": {},
   "outputs": [],
   "source": [
    "import numpy as np\n",
    "import sys\n",
    "sys.path.append(\"/Users/adithyasriram/Research Files/Khemani/repos\")\n",
    "sys.path.append('/Users/adithyasriram/Research Files/Khemani/repos/Exact Diagonalization Project/build')\n",
    "from SpinLibrary import *\n",
    "from pyED import *\n",
    "\n",
    "# round values to zero if they are less than 1e-10 \n",
    "def chop(x):\n",
    "    re = 0 if abs(x.real) < 1e-10 else x.real\n",
    "    im = 0 if abs(x.imag) < 1e-10 else x.imag\n",
    "    if im == 0:\n",
    "        return re\n",
    "    return complex(re, im)"
   ]
  },
  {
   "cell_type": "code",
   "execution_count": null,
   "metadata": {},
   "outputs": [
    {
     "data": {
      "text/plain": [
       "252"
      ]
     },
     "execution_count": 7,
     "metadata": {},
     "output_type": "execute_result"
    }
   ],
   "source": [
    "L = 50\n",
    "lattice = Lattice(L)\n",
    "model = RealSpaceFermions(lattice, N = 25, number = True, parity = True)\n",
    "len(model.FockSpaceStates)"
   ]
  },
  {
   "cell_type": "code",
   "execution_count": 6,
   "metadata": {},
   "outputs": [
    {
     "data": {
      "text/plain": [
       "'(1.0 + 0.0i)bD(1) * b(0) + (1.0 + 0.0i)bD(0) * b(1)'"
      ]
     },
     "execution_count": 6,
     "metadata": {},
     "output_type": "execute_result"
    }
   ],
   "source": [
    "Ham = b(0) * bD(1) + b(1) * bD(0)\n",
    "Ham.print()"
   ]
  },
  {
   "cell_type": "code",
   "execution_count": 9,
   "metadata": {},
   "outputs": [
    {
     "name": "stdout",
     "output_type": "stream",
     "text": [
      "2 0 \n",
      "(1.41421,0) 1 1 \n",
      "2 0 \n",
      "(0,0) 2 0 \n",
      "1 1 \n",
      "(1.41421,0) 0 2 \n",
      "1 1 \n",
      "(1.41421,0) 2 0 \n",
      "0 2 \n",
      "(0,0) 0 2 \n",
      "0 2 \n",
      "(1.41421,0) 1 1 \n"
     ]
    },
    {
     "data": {
      "text/plain": [
       "array([[0.        +0.j, 1.41421356+0.j, 0.        +0.j],\n",
       "       [1.41421356+0.j, 0.        +0.j, 1.41421356+0.j],\n",
       "       [0.        +0.j, 1.41421356+0.j, 0.        +0.j]])"
      ]
     },
     "execution_count": 9,
     "metadata": {},
     "output_type": "execute_result"
    }
   ],
   "source": [
    "constructDenseMatrixBoson(Ham, model)"
   ]
  },
  {
   "cell_type": "code",
   "execution_count": null,
   "metadata": {},
   "outputs": [],
   "source": []
  }
 ],
 "metadata": {
  "kernelspec": {
   "display_name": "Python 3",
   "language": "python",
   "name": "python3"
  },
  "language_info": {
   "codemirror_mode": {
    "name": "ipython",
    "version": 3
   },
   "file_extension": ".py",
   "mimetype": "text/x-python",
   "name": "python",
   "nbconvert_exporter": "python",
   "pygments_lexer": "ipython3",
   "version": "3.11.4"
  },
  "orig_nbformat": 4
 },
 "nbformat": 4,
 "nbformat_minor": 2
}
